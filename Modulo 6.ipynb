{
 "cells": [
  {
   "cell_type": "markdown",
   "metadata": {},
   "source": [
    "# Ejercicio 1"
   ]
  },
  {
   "cell_type": "code",
   "execution_count": 5,
   "metadata": {},
   "outputs": [
    {
     "name": "stdout",
     "output_type": "stream",
     "text": [
      "Existen 8 planetas en el sistema solar\n",
      "Correción, existen 9 planetas en el sistema solar\n",
      "El ultimo planeta es: Pluto\n"
     ]
    }
   ],
   "source": [
    "planets = [\"Mercurio\", \"Venus\",\"Tierra\",\"Marte\",\"Jupiter\",\"Saturno\",\"Urano\",\"Neptuno\"]\n",
    "print(f\"Existen {len(planets)} planetas en el sistema solar\")\n",
    "planets.append(\"Pluto\")\n",
    "print(f\"Correción, existen {len(planets)} planetas en el sistema solar\")\n",
    "print(f\"El ultimo planeta es: {planets[-1]}\")"
   ]
  },
  {
   "cell_type": "markdown",
   "metadata": {},
   "source": [
    "# Ejercicio 2"
   ]
  },
  {
   "cell_type": "code",
   "execution_count": 10,
   "metadata": {},
   "outputs": [
    {
     "name": "stdout",
     "output_type": "stream",
     "text": [
      "El planeta ingresado es el planeta número 4 en el sistema solar\n",
      "Los planetas que estan más cerca al sol que Mars son: ['Mercury', 'Venus', 'Earth']\n",
      "Los planetas que están más lejos del sol que Mars son: ['Jupiter', 'Saturn', 'Neptune']\n"
     ]
    }
   ],
   "source": [
    "# Lista de planetas\n",
    "planets = ['Mercury', 'Venus', 'Earth', 'Mars', 'Jupiter', 'Saturn', 'Neptune']\n",
    "\n",
    "planeta_usuario = input(\"Por favor ingresa el nombre de un planeta (En ingles y comenzando con mayuscula)\")\n",
    "posicion = planets.index(planeta_usuario)\n",
    "print(f\"El planeta ingresado es el planeta número {posicion+1} en el sistema solar\")\n",
    "\n",
    "print(f\"Los planetas que estan más cerca al sol que {planeta_usuario} son: {planets[0:posicion]}\")\n",
    "\n",
    "print(f\"Los planetas que están más lejos del sol que {planeta_usuario} son: {planets[posicion+1:]}\")"
   ]
  }
 ],
 "metadata": {
  "interpreter": {
   "hash": "916d53f2d73fce6f1114096684a222f391e2d578063b1cd7bfd7be5d00e4d93a"
  },
  "kernelspec": {
   "display_name": "Python 3.10.2 64-bit",
   "language": "python",
   "name": "python3"
  },
  "language_info": {
   "codemirror_mode": {
    "name": "ipython",
    "version": 3
   },
   "file_extension": ".py",
   "mimetype": "text/x-python",
   "name": "python",
   "nbconvert_exporter": "python",
   "pygments_lexer": "ipython3",
   "version": "3.10.2"
  },
  "orig_nbformat": 4
 },
 "nbformat": 4,
 "nbformat_minor": 2
}
