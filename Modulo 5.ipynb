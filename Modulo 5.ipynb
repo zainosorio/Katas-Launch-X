{
 "cells": [
  {
   "cell_type": "markdown",
   "metadata": {},
   "source": [
    "# Ejercicio 1"
   ]
  },
  {
   "cell_type": "code",
   "execution_count": 3,
   "metadata": {},
   "outputs": [
    {
     "name": "stdout",
     "output_type": "stream",
     "text": [
      "628949.33\n",
      "390577.53393\n"
     ]
    }
   ],
   "source": [
    "distancia_tierra = 149597870\n",
    "distancia_jupiter = 778547200\n",
    "distancia_planetas = distancia_jupiter - distancia_tierra\n",
    "print(distancia_planetas)\n",
    "print(distancia_planetas*0.621)"
   ]
  },
  {
   "cell_type": "markdown",
   "metadata": {},
   "source": [
    "# Ejercicio 2"
   ]
  },
  {
   "cell_type": "code",
   "execution_count": 4,
   "metadata": {},
   "outputs": [
    {
     "name": "stdout",
     "output_type": "stream",
     "text": [
      "21\n",
      "13.041\n"
     ]
    }
   ],
   "source": [
    "distancia_1 = input(\"Ingresa la distancia del primer planeta al sol\")\n",
    "distancia_2 = input(\"Ingresa la distancia del segundo planeta al sol\")\n",
    "\n",
    "distancia_1=int(distancia_1)\n",
    "distancia_2=int(distancia_2)\n",
    "\n",
    "distancia_planetas=distancia_1-distancia_2\n",
    "distancia_planetas=abs(distancia_planetas)\n",
    "distancia_millas=distancia_planetas*0.621\n",
    "print(distancia_planetas)\n",
    "print(distancia_millas)\n"
   ]
  }
 ],
 "metadata": {
  "interpreter": {
   "hash": "916d53f2d73fce6f1114096684a222f391e2d578063b1cd7bfd7be5d00e4d93a"
  },
  "kernelspec": {
   "display_name": "Python 3.10.2 64-bit",
   "language": "python",
   "name": "python3"
  },
  "language_info": {
   "codemirror_mode": {
    "name": "ipython",
    "version": 3
   },
   "file_extension": ".py",
   "mimetype": "text/x-python",
   "name": "python",
   "nbconvert_exporter": "python",
   "pygments_lexer": "ipython3",
   "version": "3.10.2"
  },
  "orig_nbformat": 4
 },
 "nbformat": 4,
 "nbformat_minor": 2
}
