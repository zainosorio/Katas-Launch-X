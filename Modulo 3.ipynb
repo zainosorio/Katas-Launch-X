{
 "cells": [
  {
   "cell_type": "markdown",
   "metadata": {},
   "source": [
    "# Problema 1"
   ]
  },
  {
   "cell_type": "code",
   "execution_count": 4,
   "metadata": {},
   "outputs": [
    {
     "name": "stdout",
     "output_type": "stream",
     "text": [
      "Todo facha\n"
     ]
    }
   ],
   "source": [
    "vel = input(\"Ingresa la velocidad del asteroide\");\n",
    "if int(vel)>25:\n",
    "    print(\"¡Peligro, asteroide acercandose!\")\n",
    "else:\n",
    "    print(\"Todo facha\");"
   ]
  },
  {
   "cell_type": "code",
   "execution_count": 5,
   "metadata": {},
   "outputs": [
    {
     "name": "stdout",
     "output_type": "stream",
     "text": [
      "No hay nada que ver :c\n"
     ]
    }
   ],
   "source": [
    "asteroide = 19\n",
    "if asteroide > 20:\n",
    "    print(\"Mira hacia el cielo, !Hay una luz¡\");\n",
    "elif asteroide == 20:\n",
    "    print(\"Mira hacia el cielo, !Hay una luz¡\");\n",
    "else:\n",
    "    print(\"No hay nada que ver :c\");"
   ]
  },
  {
   "cell_type": "markdown",
   "metadata": {},
   "source": [
    "# Problema 3"
   ]
  },
  {
   "cell_type": "code",
   "execution_count": 6,
   "metadata": {},
   "outputs": [
    {
     "name": "stdout",
     "output_type": "stream",
     "text": [
      "¡Alerta, Un asteroide muy grande viene en dirección de la Tierra!\n"
     ]
    }
   ],
   "source": [
    "velocidad_asteroide = input(\"Ingresa la velocidad del asteroide\");\n",
    "tamano_asteroide = input(\"ingresa el tamaño del asteroide\");\n",
    "if int(velocidad_asteroide) > 25 and int(tamano_asteroide) > 25:\n",
    "    print('¡Alerta, Un asteroide muy grande viene en dirección de la Tierra!')\n",
    "elif int(velocidad_asteroide) >= 20:\n",
    "    print(\"Mira hacia el cielo, !Hay una luz¡\");\n",
    "elif int(tamano_asteroide) < 25:\n",
    "    print(\"No hay nada que ver :c\");\n",
    "else:\n",
    "    print(\"No hay nada que ver :c\");"
   ]
  }
 ],
 "metadata": {
  "interpreter": {
   "hash": "916d53f2d73fce6f1114096684a222f391e2d578063b1cd7bfd7be5d00e4d93a"
  },
  "kernelspec": {
   "display_name": "Python 3.10.2 64-bit",
   "language": "python",
   "name": "python3"
  },
  "language_info": {
   "codemirror_mode": {
    "name": "ipython",
    "version": 3
   },
   "file_extension": ".py",
   "mimetype": "text/x-python",
   "name": "python",
   "nbconvert_exporter": "python",
   "pygments_lexer": "ipython3",
   "version": "3.10.2"
  },
  "orig_nbformat": 4
 },
 "nbformat": 4,
 "nbformat_minor": 2
}
