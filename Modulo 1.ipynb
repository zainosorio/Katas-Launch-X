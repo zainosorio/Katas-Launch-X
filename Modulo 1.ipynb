{
 "cells": [
  {
   "cell_type": "markdown",
   "metadata": {},
   "source": [
    "# Primer problema:\n",
    "\n",
    "**Oficial superior>** \"¿Cadete?\"\n",
    "\n",
    "**Usted >** \"¿Sí, señora?\"\n",
    "\n",
    "**Oficial superior>** \"¿Puedes construir un programa que me muestre la fecha? La computadora del barco no venía con mucho en términos de programas de utilidad, por lo que necesitamos crear los que necesitamos. ¿Puedo confiar en ti con esto?\"\n",
    "\n",
    "**Usted >** \"Considéralo hecho\".\n",
    "\n",
    "**Oficial superior>** \"Excelente\"."
   ]
  },
  {
   "cell_type": "code",
   "execution_count": 3,
   "metadata": {},
   "outputs": [
    {
     "name": "stdout",
     "output_type": "stream",
     "text": [
      "La fecha de hoy es: 2022-02-13\n"
     ]
    }
   ],
   "source": [
    "from datetime import date\n",
    "\n",
    "print(\"La fecha de hoy es: \"+ str(date.today()));"
   ]
  },
  {
   "cell_type": "markdown",
   "metadata": {},
   "source": [
    "# Segundo Problema\n",
    "**El oficial superior>** \"Necesito una cosa más: un programa de conversión entre parsecs y años luz. Tener un programa de este tipo podría ser realmente útil en el puente para trazar nuestro curso\".\n",
    "\n",
    "**Tú>** \"¡Lo haré!\""
   ]
  },
  {
   "cell_type": "code",
   "execution_count": 11,
   "metadata": {},
   "outputs": [
    {
     "name": "stdout",
     "output_type": "stream",
     "text": [
      "5 parsec son 16.3078 años luz\n"
     ]
    }
   ],
   "source": [
    "parsec = input(\"Inserte la cantidad de parsecs\");\n",
    "añosl=int(parsec)*3.26156;\n",
    "print(parsec + \" parsec son \" + str(añosl) + \" años luz\");"
   ]
  }
 ],
 "metadata": {
  "interpreter": {
   "hash": "916d53f2d73fce6f1114096684a222f391e2d578063b1cd7bfd7be5d00e4d93a"
  },
  "kernelspec": {
   "display_name": "Python 3.10.2 64-bit",
   "language": "python",
   "name": "python3"
  },
  "language_info": {
   "codemirror_mode": {
    "name": "ipython",
    "version": 3
   },
   "file_extension": ".py",
   "mimetype": "text/x-python",
   "name": "python",
   "nbconvert_exporter": "python",
   "pygments_lexer": "ipython3",
   "version": "3.10.2"
  },
  "orig_nbformat": 4
 },
 "nbformat": 4,
 "nbformat_minor": 2
}
