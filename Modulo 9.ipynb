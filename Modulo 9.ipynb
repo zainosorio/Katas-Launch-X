{
 "cells": [
  {
   "cell_type": "markdown",
   "metadata": {},
   "source": [
    "# Ejercicio 1"
   ]
  },
  {
   "cell_type": "code",
   "execution_count": 4,
   "metadata": {},
   "outputs": [],
   "source": [
    "def comprobacion_tanques(tank_1,tank_2,tank_3):\n",
    "    prom=(tank_1+tank_2+tank_3)/3\n",
    "    return f\"Reporte de combustible:\\n{'-'*100}\\nTotal de combustible: {tank_1+tank_2+tank_3}\\nCantidad promedio de combustible: {prom}\"\n"
   ]
  },
  {
   "cell_type": "code",
   "execution_count": 5,
   "metadata": {},
   "outputs": [
    {
     "name": "stdout",
     "output_type": "stream",
     "text": [
      "Reporte de combustible:\n",
      "----------------------------------------------------------------------------------------------------\n",
      "Total de combustible: 0\n",
      "Cantidad promedio de combustible: 0.0\n"
     ]
    }
   ],
   "source": [
    "print(comprobacion_tanques(0,0,0))"
   ]
  },
  {
   "cell_type": "code",
   "execution_count": 6,
   "metadata": {},
   "outputs": [],
   "source": [
    "def promedio(val_1,val_2,val_3):\n",
    "    return (val_1+val_2+val_3)/3"
   ]
  },
  {
   "cell_type": "code",
   "execution_count": 7,
   "metadata": {},
   "outputs": [
    {
     "name": "stdout",
     "output_type": "stream",
     "text": [
      "Reporte de combustible:\n",
      "----------------------------------------------------------------------------------------------------\n",
      "Total de combustible: 0\n",
      "Cantidad promedio de combustible: 0.0\n"
     ]
    }
   ],
   "source": [
    "def comprobacion_tanques(tank_1,tank_2,tank_3):\n",
    "    return f\"Reporte de combustible:\\n{'-'*100}\\nTotal de combustible: {tank_1+tank_2+tank_3}\\nCantidad promedio de combustible: {promedio(tank_1,tank_2,tank_3)}\"\n",
    "\n",
    "print(comprobacion_tanques(0,0,0))"
   ]
  },
  {
   "cell_type": "markdown",
   "metadata": {},
   "source": [
    "# Ejercicio 2"
   ]
  },
  {
   "cell_type": "code",
   "execution_count": 9,
   "metadata": {},
   "outputs": [
    {
     "name": "stdout",
     "output_type": "stream",
     "text": [
      "Mision a: Moon\n",
      "Tiempo de vuelo total: 65 minutos\n",
      "Cantidad de combustible restante: 500000 galones\n"
     ]
    }
   ],
   "source": [
    "def reporte_mision(prelanzamiento, tiempo_vuelo, destino, tanque_externo, tanque_prin):\n",
    "    return f\"Mision a: {destino}\\nTiempo de vuelo total: {prelanzamiento + tiempo_vuelo} minutos\\nCantidad de combustible restante: {tanque_externo+tanque_prin} galones\"\n",
    "print(reporte_mision(14, 51, \"Moon\", 200000, 300000))\n"
   ]
  },
  {
   "cell_type": "code",
   "execution_count": 12,
   "metadata": {},
   "outputs": [
    {
     "name": "stdout",
     "output_type": "stream",
     "text": [
      "Mision a: Moon\n",
      "Tiempo de vuelo total: 45 minutos\n",
      "Cantidad de combustible restante: 500000 galones\n"
     ]
    }
   ],
   "source": [
    "def reporte_mision(destino, *minutos, **combustible):\n",
    "    return f\"Mision a: {destino}\\nTiempo de vuelo total: {sum(minutos)} minutos\\nCantidad de combustible restante: {sum(combustible.values())} galones\"\n",
    "print(reporte_mision(\"Moon\",10,15,20,principal= 200000,secundario= 300000))"
   ]
  },
  {
   "cell_type": "code",
   "execution_count": 17,
   "metadata": {},
   "outputs": [
    {
     "name": "stdout",
     "output_type": "stream",
     "text": [
      "Mision a: Moon\n",
      "Tiempo de vuelo total: 45 minutos\n",
      "Cantidad de combustible restante: 500000 galones\n",
      "Tanque: principal ----- 200000 galon(es) restante(s)\n",
      "Tanque: secundario ----- 300000 galon(es) restante(s)\n",
      "\n"
     ]
    }
   ],
   "source": [
    "def reporte_mision(destino, *minutos, **combustible):\n",
    "    reporte= f\"Mision a: {destino}\\nTiempo de vuelo total: {sum(minutos)} minutos\\nCantidad de combustible restante: {sum(combustible.values())} galones\\n\"\n",
    "    for nombre_tanque,galones in combustible.items():\n",
    "        reporte+=f\"Tanque: {nombre_tanque} ----- {galones} galon(es) restante(s)\\n\"\n",
    "    return reporte\n",
    "print(reporte_mision(\"Moon\",10,15,20,principal= 200000,secundario= 300000))"
   ]
  }
 ],
 "metadata": {
  "interpreter": {
   "hash": "916d53f2d73fce6f1114096684a222f391e2d578063b1cd7bfd7be5d00e4d93a"
  },
  "kernelspec": {
   "display_name": "Python 3.10.2 64-bit",
   "language": "python",
   "name": "python3"
  },
  "language_info": {
   "codemirror_mode": {
    "name": "ipython",
    "version": 3
   },
   "file_extension": ".py",
   "mimetype": "text/x-python",
   "name": "python",
   "nbconvert_exporter": "python",
   "pygments_lexer": "ipython3",
   "version": "3.10.2"
  },
  "orig_nbformat": 4
 },
 "nbformat": 4,
 "nbformat_minor": 2
}
